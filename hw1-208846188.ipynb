{
 "cells": [
  {
   "cell_type": "code",
   "execution_count": 1,
   "id": "dc2da50e",
   "metadata": {},
   "outputs": [
    {
     "name": "stdout",
     "output_type": "stream",
     "text": [
      "19.379999999999995\n"
     ]
    }
   ],
   "source": [
    "# Q1\n",
    "def my_func(x1,x2,x3):\n",
    "    if isinstance(x1, (int, float)) and isinstance(x2, (int, float)) and isinstance(x1, (int, float)):\n",
    "        summ = x1 + x2 +x3\n",
    "        if summ == 0:\n",
    "            print('Not a number – denominator equals zero')\n",
    "        elif type(x1) == type(x2) == type(x3) == float:\n",
    "            print(summ * (x2+x3) * x3 / summ)\n",
    "        else:\n",
    "            print('Error: parameters should be float')\n",
    "    else:\n",
    "        print(None)\n",
    "\n",
    "my_func(1.2, 2.3, 3.4)"
   ]
  },
  {
   "cell_type": "code",
   "execution_count": 2,
   "id": "4bbb85c2",
   "metadata": {},
   "outputs": [
    {
     "name": "stdout",
     "output_type": "stream",
     "text": [
      "6\n"
     ]
    }
   ],
   "source": [
    "# Q2\n",
    "def revword(word:str):\n",
    "    correct = word[::-1].lower()\n",
    "    return correct\n",
    "\n",
    "def countword():\n",
    "    file = open('text.txt')\n",
    "    f = file.readlines()\n",
    "    word = f[0].lower().rstrip()\n",
    "    f.remove(f[0])\n",
    "    count = 1\n",
    "    \n",
    "    for line in f:\n",
    "        line = revword(line).split()\n",
    "        for e in line:\n",
    "            if word == e:\n",
    "                count += 1\n",
    "    print(count)\n",
    "\n",
    "countword()"
   ]
  },
  {
   "cell_type": "code",
   "execution_count": null,
   "id": "a006ef36",
   "metadata": {},
   "outputs": [],
   "source": []
  }
 ],
 "metadata": {
  "kernelspec": {
   "display_name": "Python 3",
   "language": "python",
   "name": "python3"
  },
  "language_info": {
   "codemirror_mode": {
    "name": "ipython",
    "version": 3
   },
   "file_extension": ".py",
   "mimetype": "text/x-python",
   "name": "python",
   "nbconvert_exporter": "python",
   "pygments_lexer": "ipython3",
   "version": "3.6.2"
  }
 },
 "nbformat": 4,
 "nbformat_minor": 5
}
